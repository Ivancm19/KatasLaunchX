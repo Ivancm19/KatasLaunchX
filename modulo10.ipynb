{
 "cells": [
  {
   "cell_type": "markdown",
   "metadata": {},
   "source": [
    "# Tracebacks"
   ]
  },
  {
   "cell_type": "code",
   "execution_count": 1,
   "metadata": {},
   "outputs": [
    {
     "ename": "FileNotFoundError",
     "evalue": "[Errno 2] No such file or directory: '/path/to/mars.jpg'",
     "output_type": "error",
     "traceback": [
      "\u001b[1;31m---------------------------------------------------------------------------\u001b[0m",
      "\u001b[1;31mFileNotFoundError\u001b[0m                         Traceback (most recent call last)",
      "\u001b[1;32mc:\\Users\\Admin\\Documents\\Repositorios\\KatasLaunchX\\modulo10.ipynb Cell 2'\u001b[0m in \u001b[0;36m<module>\u001b[1;34m\u001b[0m\n\u001b[1;32m----> <a href='vscode-notebook-cell:/c%3A/Users/Admin/Documents/Repositorios/KatasLaunchX/modulo10.ipynb#ch0000002?line=0'>1</a>\u001b[0m \u001b[39mopen\u001b[39;49m(\u001b[39m\"\u001b[39;49m\u001b[39m/path/to/mars.jpg\u001b[39;49m\u001b[39m\"\u001b[39;49m)\n",
      "\u001b[1;31mFileNotFoundError\u001b[0m: [Errno 2] No such file or directory: '/path/to/mars.jpg'"
     ]
    }
   ],
   "source": [
    "open(\"/path/to/mars.jpg\")"
   ]
  },
  {
   "cell_type": "code",
   "execution_count": null,
   "metadata": {},
   "outputs": [
    {
     "ename": "FileNotFoundError",
     "evalue": "[Errno 2] No such file or directory: '/path/to/mars.jpg'",
     "output_type": "error",
     "traceback": [
      "\u001b[1;31m---------------------------------------------------------------------------\u001b[0m",
      "\u001b[1;31mFileNotFoundError\u001b[0m                         Traceback (most recent call last)",
      "\u001b[1;32mc:\\Users\\Admin\\Documents\\Repositorios\\KatasLaunchX\\modulo10.ipynb Cell 3'\u001b[0m in \u001b[0;36m<module>\u001b[1;34m\u001b[0m\n\u001b[0;32m      <a href='vscode-notebook-cell:/c%3A/Users/Admin/Documents/Repositorios/KatasLaunchX/modulo10.ipynb#ch0000003?line=1'>2</a>\u001b[0m     \u001b[39mopen\u001b[39m(\u001b[39m\"\u001b[39m\u001b[39m/path/to/mars.jpg\u001b[39m\u001b[39m\"\u001b[39m)\n\u001b[0;32m      <a href='vscode-notebook-cell:/c%3A/Users/Admin/Documents/Repositorios/KatasLaunchX/modulo10.ipynb#ch0000003?line=3'>4</a>\u001b[0m \u001b[39mif\u001b[39;00m \u001b[39m__name__\u001b[39m \u001b[39m==\u001b[39m \u001b[39m'\u001b[39m\u001b[39m__main__\u001b[39m\u001b[39m'\u001b[39m:\n\u001b[1;32m----> <a href='vscode-notebook-cell:/c%3A/Users/Admin/Documents/Repositorios/KatasLaunchX/modulo10.ipynb#ch0000003?line=4'>5</a>\u001b[0m     main()\n",
      "\u001b[1;32mc:\\Users\\Admin\\Documents\\Repositorios\\KatasLaunchX\\modulo10.ipynb Cell 3'\u001b[0m in \u001b[0;36mmain\u001b[1;34m()\u001b[0m\n\u001b[0;32m      <a href='vscode-notebook-cell:/c%3A/Users/Admin/Documents/Repositorios/KatasLaunchX/modulo10.ipynb#ch0000003?line=0'>1</a>\u001b[0m \u001b[39mdef\u001b[39;00m \u001b[39mmain\u001b[39m():\n\u001b[1;32m----> <a href='vscode-notebook-cell:/c%3A/Users/Admin/Documents/Repositorios/KatasLaunchX/modulo10.ipynb#ch0000003?line=1'>2</a>\u001b[0m     \u001b[39mopen\u001b[39;49m(\u001b[39m\"\u001b[39;49m\u001b[39m/path/to/mars.jpg\u001b[39;49m\u001b[39m\"\u001b[39;49m)\n",
      "\u001b[1;31mFileNotFoundError\u001b[0m: [Errno 2] No such file or directory: '/path/to/mars.jpg'"
     ]
    }
   ],
   "source": [
    "def main():\n",
    "    open(\"/path/to/mars.jpg\")\n",
    "\n",
    "if __name__ == '__main__':\n",
    "    main()"
   ]
  },
  {
   "cell_type": "markdown",
   "metadata": {},
   "source": [
    "# Controlando las excepciones\n"
   ]
  },
  {
   "cell_type": "code",
   "execution_count": null,
   "metadata": {},
   "outputs": [
    {
     "name": "stdout",
     "output_type": "stream",
     "text": [
      "Couldn't find the config.txt file!\n"
     ]
    }
   ],
   "source": [
    "try:\n",
    "     open('config.txt')\n",
    "except FileNotFoundError:\n",
    "     print(\"Couldn't find the config.txt file!\")"
   ]
  },
  {
   "cell_type": "code",
   "execution_count": null,
   "metadata": {},
   "outputs": [
    {
     "name": "stdout",
     "output_type": "stream",
     "text": [
      "Couldn't find the config.txt file!\n"
     ]
    }
   ],
   "source": [
    "def main():\n",
    "    try:\n",
    "        configuration = open('config.txt')\n",
    "    except FileNotFoundError:\n",
    "        print(\"Couldn't find the config.txt file!\")\n",
    "\n",
    "\n",
    "if __name__ == '__main__':\n",
    "    main()"
   ]
  },
  {
   "cell_type": "markdown",
   "metadata": {},
   "source": [
    "# Generación de excepciones\n"
   ]
  },
  {
   "cell_type": "code",
   "execution_count": null,
   "metadata": {},
   "outputs": [],
   "source": [
    "def water_left(astronauts, water_left, days_left):\n",
    "    daily_usage = astronauts * 11\n",
    "    total_usage = daily_usage * days_left\n",
    "    total_water_left = water_left - total_usage\n",
    "    if total_water_left < 0:\n",
    "        raise RuntimeError(f\"There is not enough water for {astronauts} astronauts after {days_left} days!\")\n",
    "    return f\"Total water left after {days_left} days is: {total_water_left} liters\""
   ]
  },
  {
   "cell_type": "code",
   "execution_count": null,
   "metadata": {},
   "outputs": [
    {
     "ename": "RuntimeError",
     "evalue": "There is not enough water for 5 astronauts after 2 days!",
     "output_type": "error",
     "traceback": [
      "\u001b[1;31m---------------------------------------------------------------------------\u001b[0m",
      "\u001b[1;31mRuntimeError\u001b[0m                              Traceback (most recent call last)",
      "\u001b[1;32mc:\\Users\\Admin\\Documents\\Repositorios\\KatasLaunchX\\modulo10.ipynb Cell 9'\u001b[0m in \u001b[0;36m<module>\u001b[1;34m\u001b[0m\n\u001b[1;32m----> <a href='vscode-notebook-cell:/c%3A/Users/Admin/Documents/Repositorios/KatasLaunchX/modulo10.ipynb#ch0000009?line=0'>1</a>\u001b[0m water_left(\u001b[39m5\u001b[39;49m, \u001b[39m100\u001b[39;49m, \u001b[39m2\u001b[39;49m)\n",
      "\u001b[1;32mc:\\Users\\Admin\\Documents\\Repositorios\\KatasLaunchX\\modulo10.ipynb Cell 8'\u001b[0m in \u001b[0;36mwater_left\u001b[1;34m(astronauts, water_left, days_left)\u001b[0m\n\u001b[0;32m      <a href='vscode-notebook-cell:/c%3A/Users/Admin/Documents/Repositorios/KatasLaunchX/modulo10.ipynb#ch0000008?line=3'>4</a>\u001b[0m total_water_left \u001b[39m=\u001b[39m water_left \u001b[39m-\u001b[39m total_usage\n\u001b[0;32m      <a href='vscode-notebook-cell:/c%3A/Users/Admin/Documents/Repositorios/KatasLaunchX/modulo10.ipynb#ch0000008?line=4'>5</a>\u001b[0m \u001b[39mif\u001b[39;00m total_water_left \u001b[39m<\u001b[39m \u001b[39m0\u001b[39m:\n\u001b[1;32m----> <a href='vscode-notebook-cell:/c%3A/Users/Admin/Documents/Repositorios/KatasLaunchX/modulo10.ipynb#ch0000008?line=5'>6</a>\u001b[0m     \u001b[39mraise\u001b[39;00m \u001b[39mRuntimeError\u001b[39;00m(\u001b[39mf\u001b[39m\u001b[39m\"\u001b[39m\u001b[39mThere is not enough water for \u001b[39m\u001b[39m{\u001b[39;00mastronauts\u001b[39m}\u001b[39;00m\u001b[39m astronauts after \u001b[39m\u001b[39m{\u001b[39;00mdays_left\u001b[39m}\u001b[39;00m\u001b[39m days!\u001b[39m\u001b[39m\"\u001b[39m)\n\u001b[0;32m      <a href='vscode-notebook-cell:/c%3A/Users/Admin/Documents/Repositorios/KatasLaunchX/modulo10.ipynb#ch0000008?line=6'>7</a>\u001b[0m \u001b[39mreturn\u001b[39;00m \u001b[39mf\u001b[39m\u001b[39m\"\u001b[39m\u001b[39mTotal water left after \u001b[39m\u001b[39m{\u001b[39;00mdays_left\u001b[39m}\u001b[39;00m\u001b[39m days is: \u001b[39m\u001b[39m{\u001b[39;00mtotal_water_left\u001b[39m}\u001b[39;00m\u001b[39m liters\u001b[39m\u001b[39m\"\u001b[39m\n",
      "\u001b[1;31mRuntimeError\u001b[0m: There is not enough water for 5 astronauts after 2 days!"
     ]
    }
   ],
   "source": [
    "water_left(5, 100, 2)\n"
   ]
  }
 ],
 "metadata": {
  "interpreter": {
   "hash": "bfb4883d108fc92ac768439090a2e92bb9a1f760a54beeecfd6762b5dcd70fe3"
  },
  "kernelspec": {
   "display_name": "Python 3.10.2 64-bit",
   "language": "python",
   "name": "python3"
  },
  "language_info": {
   "codemirror_mode": {
    "name": "ipython",
    "version": 3
   },
   "file_extension": ".py",
   "mimetype": "text/x-python",
   "name": "python",
   "nbconvert_exporter": "python",
   "pygments_lexer": "ipython3",
   "version": "3.10.2"
  },
  "orig_nbformat": 4
 },
 "nbformat": 4,
 "nbformat_minor": 2
}
